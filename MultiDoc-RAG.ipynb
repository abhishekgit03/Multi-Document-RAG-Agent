{
  "nbformat": 4,
  "nbformat_minor": 0,
  "metadata": {
    "colab": {
      "provenance": []
    },
    "kernelspec": {
      "name": "python3",
      "display_name": "Python 3"
    },
    "language_info": {
      "name": "python"
    }
  },
  "cells": [
    {
      "cell_type": "code",
      "execution_count": null,
      "metadata": {
        "id": "vUl-Z92PAlLz"
      },
      "outputs": [],
      "source": [
        "!pip install langchain -q\n",
        "!pip install pdfminer.six -q\n",
        "!pip install unstructured -q\n",
        "!pip install pinecone-client -q\n",
        "!pip install pdf2image -q\n",
        "!pip install pytesseract -q\n",
        "!pip install tiktoken -q\n",
        "!pip install langchain-community\n",
        "!pip install --quiet langchain-google-genai\n",
        "!pip install langchain-pinecone"
      ]
    },
    {
      "cell_type": "code",
      "source": [
        "from langchain.text_splitter import CharacterTextSplitter\n",
        "from langchain.document_loaders import TextLoader\n",
        "from langchain.vectorstores import Pinecone"
      ],
      "metadata": {
        "id": "jJvuwbIYB_rb"
      },
      "execution_count": 14,
      "outputs": []
    },
    {
      "cell_type": "code",
      "source": [
        "from pinecone import Pinecone\n",
        "import os\n",
        "from google.colab import userdata\n",
        "pc = Pinecone(api_key=userdata.get('pinecone_key'))\n",
        "index = pc.Index(\"data\")"
      ],
      "metadata": {
        "id": "rfWKCDQ2ArI7"
      },
      "execution_count": 3,
      "outputs": []
    },
    {
      "cell_type": "markdown",
      "source": [
        "# Load Documents"
      ],
      "metadata": {
        "id": "WXBp_8YDkZsu"
      }
    },
    {
      "cell_type": "code",
      "source": [
        "from langchain_community.document_loaders import TextLoader\n",
        "loader = TextLoader('q3-2324.txt', encoding='utf8')\n",
        "data = loader.load()"
      ],
      "metadata": {
        "id": "GXDxCMfsNvJ5"
      },
      "execution_count": null,
      "outputs": []
    },
    {
      "cell_type": "code",
      "source": [
        "from langchain.text_splitter import CharacterTextSplitter\n",
        "from langchain.document_loaders import TextLoader\n",
        "text_splitter =  CharacterTextSplitter(separator = \".\",chunk_size=1000, chunk_overlap=0)\n",
        "texts = text_splitter.split_documents(data)"
      ],
      "metadata": {
        "id": "GF8QISwKIUxD"
      },
      "execution_count": null,
      "outputs": []
    },
    {
      "cell_type": "markdown",
      "source": [
        "# Load Google Gemini"
      ],
      "metadata": {
        "id": "Fg_pnuYblBjf"
      }
    },
    {
      "cell_type": "code",
      "source": [
        "from langchain import PromptTemplate\n",
        "from langchain.schema import StrOutputParser\n",
        "from langchain.schema.prompt_template import format_document\n",
        "from langchain_google_genai import ChatGoogleGenerativeAI\n",
        "from langchain_google_genai import GoogleGenerativeAIEmbeddings"
      ],
      "metadata": {
        "id": "_rBBN1xCJgIi"
      },
      "execution_count": 4,
      "outputs": []
    },
    {
      "cell_type": "code",
      "source": [
        "os.environ['GOOGLE_API_KEY'] = userdata.get('gemini_key')"
      ],
      "metadata": {
        "id": "M5wvfeERJR0Z"
      },
      "execution_count": 5,
      "outputs": []
    },
    {
      "cell_type": "code",
      "source": [
        "llm = ChatGoogleGenerativeAI(model=\"gemini-1.5-flash\",temperature=0.8)"
      ],
      "metadata": {
        "id": "LJ_DYI9BJiqL"
      },
      "execution_count": 6,
      "outputs": []
    },
    {
      "cell_type": "code",
      "source": [
        "gemini_embeddings = GoogleGenerativeAIEmbeddings(model=\"models/text-embedding-004\")"
      ],
      "metadata": {
        "id": "09Yvgil0lvhP"
      },
      "execution_count": 7,
      "outputs": []
    },
    {
      "cell_type": "code",
      "source": [
        "from langchain_pinecone import PineconeVectorStore\n",
        "vector_store = PineconeVectorStore(index=index, embedding=gemini_embeddings)"
      ],
      "metadata": {
        "id": "dRhQZgO2lxZ_"
      },
      "execution_count": 8,
      "outputs": []
    },
    {
      "cell_type": "markdown",
      "source": [
        "# Summary Generation"
      ],
      "metadata": {
        "id": "v6XZm0VCLz-y"
      }
    },
    {
      "cell_type": "code",
      "source": [
        "doc_prompt = PromptTemplate.from_template(\"{page_content}\")\n",
        "llm_prompt_template = \"\"\"Write a concise summary of the following:\n",
        "\"{text}\"\n",
        "CONCISE SUMMARY:\"\"\"\n",
        "llm_prompt = PromptTemplate.from_template(llm_prompt_template)\n",
        "print(llm_prompt)"
      ],
      "metadata": {
        "colab": {
          "base_uri": "https://localhost:8080/"
        },
        "id": "aJ16HmDMLREy",
        "outputId": "65314236-c22d-4302-d9bd-887ff5ce249f"
      },
      "execution_count": null,
      "outputs": [
        {
          "output_type": "stream",
          "name": "stdout",
          "text": [
            "input_variables=['text'] template='Write a concise summary of the following:\\n\"{text}\"\\nCONCISE SUMMARY:'\n"
          ]
        }
      ]
    },
    {
      "cell_type": "code",
      "source": [
        "stuff_chain = (\n",
        "\n",
        "    {\n",
        "        \"text\": lambda texts: \"\\n\\n\".join(\n",
        "            format_document(doc, doc_prompt) for doc in texts\n",
        "        )\n",
        "    }\n",
        "    | llm_prompt\n",
        "    | llm\n",
        "    | StrOutputParser()\n",
        ")"
      ],
      "metadata": {
        "id": "pQMr3LLKLXLb"
      },
      "execution_count": null,
      "outputs": []
    },
    {
      "cell_type": "code",
      "source": [
        "summary=stuff_chain.invoke(texts)"
      ],
      "metadata": {
        "id": "8ixgxZjYLhmi"
      },
      "execution_count": null,
      "outputs": []
    },
    {
      "cell_type": "code",
      "source": [
        "summary"
      ],
      "metadata": {
        "colab": {
          "base_uri": "https://localhost:8080/",
          "height": 145
        },
        "id": "Nu-b2jJMjrX5",
        "outputId": "7d3a8257-abc6-47c0-9163-a9f80bd4ca9f"
      },
      "execution_count": null,
      "outputs": [
        {
          "output_type": "execute_result",
          "data": {
            "text/plain": [
              "\"## TCS Q3 FY2024 Earnings Call Summary:\\n\\n**Resilient Performance Amidst Macro Uncertainty**\\n\\nTCS reported strong Q3 FY2024 results despite global economic headwinds, highlighting the company's resilience and robust demand for its services. \\n\\n**Key Highlights:**\\n\\n* **Revenue Growth:** 4.0% YoY in Rupee terms, 1.7% in constant currency terms, and 2.9% in Dollar terms.\\n* **Strong Deal Wins:** TCV of $8.1 billion, book-to-bill ratio of 1.1, and 11.3% YoY growth in trailing 12-month order book.\\n* **Margin Expansion:** Operating margin at 25%, a sequential expansion of 75 basis points. Net income margin at 19.4%.\\n* **Attrition Down:** LTM attrition in IT services at 13.3%, down 1.6% sequentially, within the company's comfort range.\\n* **Dividend:** Board recommended an interim dividend of ₹27 per share, including a special dividend of ₹18 per share.\\n* **Gen AI Focus:** TCS is investing heavily in Gen AI capabilities, building offerings, and integrating the technology into its products and platforms. \\n\\n**Key Themes Driving Demand:**\\n\\n* **Operating Model Transformations:**  Improving efficiencies, digitalization, customer and employee experience transformation, sustainability, cloud, cyber resilience, and AI/Gen AI.\\n* **Vendor Consolidation:** TCS is benefiting from clients consolidating their IT vendors, leveraging its scale and expertise.\\n* **Pent-Up Demand:**  Clients are re-evaluating their technology investments made during the pandemic, with pent-up demand expected to materialize once macro uncertainties subside.\\n* **Sustainability:**  TCS is partnering with clients to develop technology-led solutions for environmental sustainability.\\n* **Cloud Technologies:**  Continued investment in cloud migration and transformation remains a key area of focus.\\n\\n**Outlook:**\\n\\n* TCS remains confident about its medium-to-long-term growth potential, supported by a strong order book and pipeline.\\n* The company is focused on driving operational excellence and leveraging its cost optimization levers to achieve its aspirational margin target of 26%-28%.\\n* BFSI is expected to return to growth in the coming quarters.\\n\\nOverall, TCS is demonstrating strong execution capabilities and a positive outlook for the future, despite the challenging macro environment. \\n\""
            ],
            "application/vnd.google.colaboratory.intrinsic+json": {
              "type": "string"
            }
          },
          "metadata": {},
          "execution_count": 33
        }
      ]
    },
    {
      "cell_type": "markdown",
      "source": [
        "# Upload summary to pinecone"
      ],
      "metadata": {
        "id": "KC51SriQkV5w"
      }
    },
    {
      "cell_type": "markdown",
      "source": [
        "**Document IDs**\n",
        "\n",
        "docid-1 = Transcript of the Q1 2024-25 Earnings Conference Call held on Jul 11, 2024\n",
        "\n",
        "docid-2 = Transcript of the Q4 2023-24 Earnings Conference Call held on April 12, 2024\n",
        "\n",
        "docid-3 = Transcript of the Q3 2023-24 Earnings Conference Call held on January 11, 2023"
      ],
      "metadata": {
        "id": "RzxySF9Ej9mn"
      }
    },
    {
      "cell_type": "code",
      "source": [
        "from langchain_core.documents import Document\n",
        "document_1 = Document(page_content=summary, metadata={\"source\": \"docid-3\"})"
      ],
      "metadata": {
        "id": "1i9eRvPNPnU0"
      },
      "execution_count": null,
      "outputs": []
    },
    {
      "cell_type": "code",
      "source": [
        "vector_store.add_documents(documents=[document_1],namespace=\"summary_embeddings\")"
      ],
      "metadata": {
        "colab": {
          "base_uri": "https://localhost:8080/"
        },
        "id": "wLNedyF_PVLy",
        "outputId": "f6776e56-1322-484c-f27c-a9437d814bdf"
      },
      "execution_count": null,
      "outputs": [
        {
          "output_type": "execute_result",
          "data": {
            "text/plain": [
              "['be357e75-67a7-43e9-a20f-98b1e187b94f']"
            ]
          },
          "metadata": {},
          "execution_count": 35
        }
      ]
    },
    {
      "cell_type": "code",
      "source": [
        "query = \"TCS Q4 2024 Earnings\"\n",
        "vector_store.similarity_search(\n",
        "    query,  # our search query\n",
        "    k=3 , # return 3 most relevant docs\n",
        "    namespace=\"summary_embeddings\"\n",
        ")"
      ],
      "metadata": {
        "colab": {
          "base_uri": "https://localhost:8080/"
        },
        "id": "7ylmXyO7QXpi",
        "outputId": "52b93220-5441-4f18-8f67-dece99620648"
      },
      "execution_count": null,
      "outputs": [
        {
          "output_type": "execute_result",
          "data": {
            "text/plain": [
              "[Document(metadata={'source': 'docid-2'}, page_content='## Concise Summary of TCS Q4 FY24 Earnings Conference Call:\\n\\n**Key Highlights:**\\n\\n* **Strong Q4 performance:** TCS reported the strongest sequential revenue growth in many quarters, an all-time high TCV (Total Contract Value) of $13.2 billion, and an operating margin of 26% (highest in the last 12 quarters).\\n* **Resilient FY24 growth:** Revenue grew 6.8% in rupee terms, 3.4% in constant currency terms, and 4.1% in dollar terms. Operating margin for the year was 24.6%.\\n* **Strong deal momentum:**  Record Q4 TCV and double-digit growth in last 12 months TCV reflect deepening partnerships with clients.\\n* **Focus on customer experience and cost optimization:** Clients are prioritizing projects with high and immediate ROI, leading to increased focus on cost optimization initiatives like vendor consolidation, cloud transformation, and AI enablement.\\n* **Gen AI a key driver:**  TCS is actively pursuing Gen AI opportunities, investing in AI.Cloud business unit, and training employees on AI and Gen AI competencies.\\n* **Cautious outlook:**  While deal wins are strong, TCS remains cautious about near-term growth due to uncertainty in customer spending, particularly in discretionary projects.\\n* **Margins expected to remain stable:**  Despite some near-term headwinds, TCS expects margins to remain stable with levers like pricing and utilization. \\n* **Pent-up demand in BFSI:**  TCS expects pent-up demand in BFSI to translate into revenue as customers regain confidence in their business outlook.\\n* **Positive outlook for FY25:**  Based on strong TCV and ongoing deal momentum, TCS expects FY25 to be better than FY24.\\n\\n**Overall, TCS reported a strong Q4 FY24 performance, driven by a record deal pipeline and continued focus on strategic partnerships. While near-term growth remains uncertain due to macro factors, TCS is well-positioned for long-term growth and expects FY25 to be stronger than FY24.**\\n'),\n",
              " Document(metadata={'source': 'docid-3'}, page_content=\"## TCS Q3 FY2024 Earnings Call Summary:\\n\\n**Resilient Performance Amidst Macro Uncertainty**\\n\\nTCS reported strong Q3 FY2024 results despite global economic headwinds, highlighting the company's resilience and robust demand for its services. \\n\\n**Key Highlights:**\\n\\n* **Revenue Growth:** 4.0% YoY in Rupee terms, 1.7% in constant currency terms, and 2.9% in Dollar terms.\\n* **Strong Deal Wins:** TCV of $8.1 billion, book-to-bill ratio of 1.1, and 11.3% YoY growth in trailing 12-month order book.\\n* **Margin Expansion:** Operating margin at 25%, a sequential expansion of 75 basis points. Net income margin at 19.4%.\\n* **Attrition Down:** LTM attrition in IT services at 13.3%, down 1.6% sequentially, within the company's comfort range.\\n* **Dividend:** Board recommended an interim dividend of ₹27 per share, including a special dividend of ₹18 per share.\\n* **Gen AI Focus:** TCS is investing heavily in Gen AI capabilities, building offerings, and integrating the technology into its products and platforms. \\n\\n**Key Themes Driving Demand:**\\n\\n* **Operating Model Transformations:**  Improving efficiencies, digitalization, customer and employee experience transformation, sustainability, cloud, cyber resilience, and AI/Gen AI.\\n* **Vendor Consolidation:** TCS is benefiting from clients consolidating their IT vendors, leveraging its scale and expertise.\\n* **Pent-Up Demand:**  Clients are re-evaluating their technology investments made during the pandemic, with pent-up demand expected to materialize once macro uncertainties subside.\\n* **Sustainability:**  TCS is partnering with clients to develop technology-led solutions for environmental sustainability.\\n* **Cloud Technologies:**  Continued investment in cloud migration and transformation remains a key area of focus.\\n\\n**Outlook:**\\n\\n* TCS remains confident about its medium-to-long-term growth potential, supported by a strong order book and pipeline.\\n* The company is focused on driving operational excellence and leveraging its cost optimization levers to achieve its aspirational margin target of 26%-28%.\\n* BFSI is expected to return to growth in the coming quarters.\\n\\nOverall, TCS is demonstrating strong execution capabilities and a positive outlook for the future, despite the challenging macro environment. \\n\"),\n",
              " Document(metadata={'source': 'docid-1'}, page_content='## TCS Q1 FY25 Earnings Call Summary:\\n\\n**Overall:** TCS reported a strong start to FY25 with 4.4% YoY constant currency revenue growth, driven by broad-based growth across verticals and geographies.  \\n\\n**Key Highlights:**\\n\\n* **Revenue:** ₹62,613 crore (5.4% YoY growth), $7,505 million (3.9% YoY growth)\\n* **Operating Margin:** 24.7%, impacted by wage hikes but offset by efficiency gains.\\n* **Net Margin:** 19.2%\\n* **Net Cash from Operations:** $1.34 billion\\n* **Free Cash Flow:** $1.23 billion\\n* **TCV:** $8.3 billion, indicating strong deal pipeline despite a slight dip in Q1.\\n* **BFSI:** Recovered to sequential growth, driven by North America performance.\\n* **Retail:** Showing signs of recovery but remains cautious due to consumer confidence and inflation.\\n* **Manufacturing and Healthcare:** Continued strong growth but potential headwinds from EV adoption and vertical integration in manufacturing.\\n* **CMI:**  Struggling with 7.4% YoY decline due to cautious telco spending after 5G investments.\\n* **GenAI:**  Growing pipeline with over 270 engagements, contributing to productivity gains (5%-20%), but not yet a significant driver for revenue growth.\\n* **Headcount:**  Hiring remains strong, reflecting investments in training and talent development.\\n* **Outlook:**  FY25 expected to be better than FY24, but caution remains due to macroeconomic uncertainties and client decision-making volatility.\\n\\n**Key Takeaways:**\\n\\n* TCS is navigating the volatile environment with a focus on cost optimization and efficiency gains.\\n* GenAI is emerging as a key technology, but its impact on revenue growth is still unfolding.\\n* The company remains confident in its long-term growth prospects and is investing heavily in talent development.\\n*  While growth is positive, the company is cautious about predicting a sustained recovery due to ongoing macroeconomic uncertainties. \\n')]"
            ]
          },
          "metadata": {},
          "execution_count": 37
        }
      ]
    },
    {
      "cell_type": "markdown",
      "source": [
        "# Upload passages to pinecone"
      ],
      "metadata": {
        "id": "DWxxrtf-kkIg"
      }
    },
    {
      "cell_type": "code",
      "source": [
        "documents = []\n",
        "for text in texts:\n",
        "    documents.append(Document(page_content=text.page_content, metadata={\"source\": \"docid-3\"}))"
      ],
      "metadata": {
        "id": "cesUJpxvkjf3"
      },
      "execution_count": null,
      "outputs": []
    },
    {
      "cell_type": "code",
      "source": [
        "vector_store.add_documents(documents=documents,namespace=\"passages_embeddings\")"
      ],
      "metadata": {
        "colab": {
          "base_uri": "https://localhost:8080/"
        },
        "id": "zDGhBto0mGjn",
        "outputId": "f5779001-d106-4cbf-f645-b6eeafa03c23",
        "collapsed": true
      },
      "execution_count": null,
      "outputs": [
        {
          "output_type": "execute_result",
          "data": {
            "text/plain": [
              "['4d51d979-afcb-44a6-9719-e06180847cbe',\n",
              " 'f7ef89ab-adca-41ff-9b54-77c23458048d',\n",
              " '50e8257b-c1e7-44ed-bc8c-556c051cd37e',\n",
              " '0ac44b13-a570-4c52-ade4-b50c43a4ec04',\n",
              " '2f339a99-c682-4c82-9e0e-70ab252c0280',\n",
              " '843d3619-8051-4371-8cc1-432cc9ae9ac2',\n",
              " '76b61329-b47b-46a8-8c5c-84c3eac9e2d1',\n",
              " '44b2c57e-44e1-422e-8597-086f967b9eb0',\n",
              " 'cc1c6880-9337-4ff9-8600-62d3566d8406',\n",
              " 'e1c0f43c-8f85-4b80-ab96-8b29d22ee325',\n",
              " 'd7c69c4b-d2cb-42f3-b379-2dad7dd69ab1',\n",
              " 'ff0f3702-16d9-44f7-ae91-51dd4cdde8dc',\n",
              " 'b1e12c70-e106-438a-8719-b8646becff74',\n",
              " 'b4aee653-86b7-4f40-a1d6-eb0168def2ba',\n",
              " 'f3ff801f-b785-4509-b6a4-d7ccde36312c',\n",
              " '529f7f02-4de8-42f7-af43-66aad8e03b01',\n",
              " '78ac967d-aa68-42ac-8be9-366ea261a605',\n",
              " '34d47bc5-f90b-4408-a4ba-3e3758e1a999',\n",
              " 'b7f784c3-3302-4fb4-b560-84149ca4c19b',\n",
              " '46a6222a-37bd-423b-b512-3d94877b735c',\n",
              " 'b4aa4857-92b6-402e-8df1-6c685f827d31',\n",
              " '88e32953-30bf-4c9d-85a3-f817d09e4c0d',\n",
              " '5faae227-9822-4876-a4aa-8bfacbcfa22b',\n",
              " 'fcc24745-3793-4bba-8122-0056042b1315',\n",
              " 'ce2f4566-6be6-4dc5-85ee-eed56266d9e3',\n",
              " '59c2be3b-0c04-48be-9dfe-4d816d004e65',\n",
              " '12a099e6-f6c4-41c8-9bc6-b3beafc63be6',\n",
              " 'd2e7024f-67c8-45c4-a92f-de73ae54ed94',\n",
              " '2004a7ec-8ee6-456b-8383-313a29aeb4f5',\n",
              " '155b13a5-92c0-4fec-aad0-e262474381b7',\n",
              " 'c44a06eb-bb09-43eb-bf9b-df1a44e08747',\n",
              " '2f67681f-3b5c-4388-b2f7-a367f195b284',\n",
              " 'd5fdc72d-b0c3-45dc-aff4-71987ead295c',\n",
              " 'ad23cf31-fd8a-47ff-80a1-fac887d164d1',\n",
              " '349dff06-037a-4e04-944b-16c99fbd4825',\n",
              " '83a300f3-932c-4b5c-9ea3-47c499cf873d',\n",
              " '5b49a952-d50c-47ea-a152-ced296be0546',\n",
              " 'a4ee8c5d-78d0-4ad6-95e9-bd3167896bed',\n",
              " 'f3327891-aaa4-494a-a77a-81dc9da83ff4',\n",
              " 'c9b0b8b5-341d-49d2-902b-5b629030a2ae',\n",
              " '9cc04025-ece4-487a-aefa-d10b55a114de',\n",
              " '43c5fbef-0a74-4fdd-be7a-231a15bf5eae',\n",
              " '2f45f094-1b8d-4667-85ab-e6e3d0658321',\n",
              " '6753ec09-19a7-459f-965c-575aa2bf482f',\n",
              " '48a54313-8210-4b4b-a3c1-1e215fc94afd',\n",
              " '8f81c824-020a-43e2-82e5-efc1016c92b8',\n",
              " 'd5a6fe0e-cc46-46a1-a9ef-11a203f30d5f',\n",
              " 'b8c91dbf-a4a3-406c-8ccb-7f0623f76c1b',\n",
              " 'f45db0f9-95e6-44f3-bae5-01836dc0cf1f',\n",
              " 'ddd3f91c-6c99-4dd5-9917-baa23ee2938d',\n",
              " 'fc2d0356-5f92-4a9e-ba28-3eabac9aa371',\n",
              " 'a12c4cc2-05b6-45b5-b385-b27ed4169e22',\n",
              " 'ed8eadec-335d-4e5f-b305-e29d343b4bb8',\n",
              " 'c729502c-8255-4b5b-8de1-bb2d87809b85',\n",
              " '990d21bc-40c5-477b-a8b1-506109ad75ce',\n",
              " 'd3f79903-f0db-4a0b-bb79-683c2f61e4f7',\n",
              " '4418e902-29dd-4e97-8e68-e305bbdfa5b2',\n",
              " '218cd506-d1b1-4d8f-9c1e-6d32270e7b5a',\n",
              " 'fc05967c-8494-43b5-b3f3-44479872a5be',\n",
              " '5382c78c-b1ec-4d1d-b492-5021ddd27272']"
            ]
          },
          "metadata": {},
          "execution_count": 54
        }
      ]
    },
    {
      "cell_type": "markdown",
      "source": [
        "# User Query Classification"
      ],
      "metadata": {
        "id": "FMEQ0vOnbC0G"
      }
    },
    {
      "cell_type": "code",
      "source": [
        "user_query = \"TCS Q3 2024 Revenue\""
      ],
      "metadata": {
        "id": "sKGKMc9-n2OQ"
      },
      "execution_count": 9,
      "outputs": []
    },
    {
      "cell_type": "code",
      "source": [
        "llm_completion_select_route_chain = (\n",
        "PromptTemplate.from_template(\"\"\"\n",
        "Given the user question below, classify whether its a general query requiring text generation tasks or a document retrieval query requiring a text extraction task for answering the user question.\n",
        "\n",
        "General: If the question involves generating new text, such as creating, summarizing, or explaining content that isn't directly tied to specific documents.\n",
        "\n",
        "Document: If the question requires extracting specific information from an existing document or dataset, indicating that the answer must be pulled directly from a particular source.\n",
        "\n",
        "<question>\n",
        "{question}\n",
        "</question>\n",
        "\n",
        "The response must contain only the classified category - General or Document.\n",
        "\n",
        "<question>\n",
        "{question}\n",
        "</question>\n",
        "\n",
        "Classification:\"\"\")\n",
        "| llm\n",
        "| StrOutputParser()\n",
        ")\n",
        "response=llm_completion_select_route_chain.invoke({\"question\": user_query})\n",
        "print(response.strip())"
      ],
      "metadata": {
        "id": "buCbc3oKY8aU"
      },
      "execution_count": null,
      "outputs": []
    },
    {
      "cell_type": "markdown",
      "source": [
        "# Document selection step using user query and summaries"
      ],
      "metadata": {
        "id": "XcvFYrwanSCw"
      }
    },
    {
      "cell_type": "code",
      "source": [
        "matched_summaries=vector_store.similarity_search(\n",
        "    user_query,  # our search query\n",
        "    k=3 , # return 3 most relevant docs\n",
        "    namespace=\"summary_embeddings\"\n",
        ")"
      ],
      "metadata": {
        "id": "xUv60zhSnPl_"
      },
      "execution_count": null,
      "outputs": []
    },
    {
      "cell_type": "code",
      "source": [
        "summaries=[]\n",
        "for passage in matched_summaries:\n",
        "  summaries.append(passage.metadata[\"source\"]+\": \"+passage.page_content)\n",
        "summary_list=\"\"\n",
        "for i in range(0,len(summaries)):\n",
        "    summary_list=summary_list+summaries[i]+\"###########\\n\\n\"\n",
        "print(summary_list)"
      ],
      "metadata": {
        "id": "lA_3I11NoEFo"
      },
      "execution_count": null,
      "outputs": []
    },
    {
      "cell_type": "code",
      "source": [
        "document_selection_prompt = f\"\"\"You are an AI assistant that can identify which documents have the probable answer to the user questions. You will be given passages each containing the summary of the of the document. Based on the user question you have to reply with a python list containing the document ids. The document ids will be like docid-1,docid-2,docid-3,docid-4 and docid-5. Only single document can have the answer or multiple documents can also have the answer. If none of the documents contain the answer reply [].\n",
        "Return only the number strictly and nothing else.\n",
        "Examples:\n",
        "[\"docid-1\"]\n",
        "[\"docid-1\",\"docid-2\"]\n",
        "[\"docid-1\",\"docid-2\",\"docid-3\"]\n",
        "[\"docid-2\"]\n",
        "[]\n",
        "\n",
        "Document Summaries:\n",
        "\n",
        "{summary_list}\n",
        "\"\"\""
      ],
      "metadata": {
        "id": "wYAAjRErpboy"
      },
      "execution_count": null,
      "outputs": []
    },
    {
      "cell_type": "code",
      "source": [
        "messages = [\n",
        "    (\n",
        "        \"system\",\n",
        "       document_selection_prompt,\n",
        "    ),\n",
        "    (\"human\", user_query),\n",
        "]\n",
        "response = llm.invoke(messages)\n",
        "print(response)"
      ],
      "metadata": {
        "id": "XBcByAdaqC6Y"
      },
      "execution_count": null,
      "outputs": []
    },
    {
      "cell_type": "code",
      "source": [
        "import json\n",
        "selected_doc=json.loads(response.content.strip())\n",
        "selected_doc"
      ],
      "metadata": {
        "colab": {
          "base_uri": "https://localhost:8080/"
        },
        "id": "KlbcaXdArKVi",
        "outputId": "31e22426-22c5-4a05-dbd7-0ae16df6a958"
      },
      "execution_count": null,
      "outputs": [
        {
          "output_type": "execute_result",
          "data": {
            "text/plain": [
              "['docid-3']"
            ]
          },
          "metadata": {},
          "execution_count": 25
        }
      ]
    },
    {
      "cell_type": "markdown",
      "source": [
        "# Document Selection Complete -> Moving to Passage selection from a basket of passages based on docid:"
      ],
      "metadata": {
        "id": "-Rc4XA0YrWv4"
      }
    },
    {
      "cell_type": "code",
      "source": [
        "matched_passages=vector_store.similarity_search(\n",
        "    user_query,  # our search query\n",
        "    k=7 , # return 5 most relevant docs\n",
        "    namespace=\"passages_embeddings\",\n",
        "    filter={\"source\":{\"$in\": selected_doc}}\n",
        ")\n",
        "matched_passages"
      ],
      "metadata": {
        "colab": {
          "base_uri": "https://localhost:8080/"
        },
        "id": "hhpFPV1qrlUR",
        "outputId": "431b785e-a574-4bbf-de30-556ebffbfe0e"
      },
      "execution_count": null,
      "outputs": [
        {
          "output_type": "execute_result",
          "data": {
            "text/plain": [
              "[Document(metadata={'source': 'docid-3'}, page_content=\"Tata Consultancy Services Limited\\nQ3 and Nine-month Ended 31st December 2023 Earnings Conference Call\\nJanuary 11, 2024, 19:30 hrs IST (09:00 hrs US ET)\\n\\nModerator:\\n\\nLadies and gentlemen, good day, and welcome to the TCS Earnings\\nConference Call. As a reminder, all participant lines will be in the listen-only\\nmode, and there will be an opportunity for you to ask questions after the\\npresentation concludes. Should you need assistance during the conference\\ncall, please signal an operator by pressing star, then zero on your touchtone\\nphone. Please note that this conference is being recorded. I now hand the\\nconference over to Ms. Nehal Shah from the Investor Relations team at TCS.\\nThank you, and over to you.\\n\\nNehal Shah:\\n\\nThank you, Operator. Good evening, and welcome, everyone. Thank you for\\njoining us today to discuss TCS' financial results for the third quarter of fiscal\\nyear 2024 that ended December 31, 2023\"),\n",
              " Document(metadata={'source': 'docid-3'}, page_content='Our operating margin is at\\n25%, a sequential expansion of 75 basis points, comprising 80 basis points\\nheadwind on account of seasonal furloughs and higher third-party expenses\\noffset by 60 basis points improvement on account of efficiency improvements\\nthrough productivity and realization and a further 70 basis points\\n\\n|2\\n\\n\\x0cTata Consultancy Services Earnings Conference Call\\nJanuary 11, 2024, 19:30 hrs IST (09:00 hrs US ET)\\n\\nimprovement from reduction in subcontractor expenses. Currency gains\\naccounted for the remaining 25 bps.\\nNet income margin in Q3 was 19.4%. Our EPS grew 8.4% on a Y-o-Y basis.\\nEffective tax rate stayed unchanged at 25.8%. Our accounts receivable\\nincreased by 2 days sequentially at 67 days sales outstanding in dollar terms.\\nNet cash from operations was ₹112.76 billion, which is a cash conversion of\\n102%. Free cash flows were ₹103.52 billion and invested funds at the end of\\nthe period stood at ₹457.31 billion'),\n",
              " Document(metadata={'source': 'docid-3'}, page_content=\"And anything said on this call reflects\\nour outlook for the future or which could be construed as a forward-looking\\nstatement must be reviewed in conjunction with the risks that the company\\n\\n\\x0cTata Consultancy Services Earnings Conference Call\\nJanuary 11, 2024, 19:30 hrs IST (09:00 hrs US ET)\\n\\nfaces. We have outlined these risks in the second slide of the quarterly fact\\nsheet available on our website and emailed out to those who have subscribed\\non our mailing list. With that, I would like to turn the call over to Krithi.\\nK Krithivasan:\\n\\nThank you, Nehal. Good day, everyone, and wishing you all a very happy new\\nyear. Our Q3 performance shows a remarkable resilience against the\\nbackdrop of macro uncertainty. The demand for our company's services\\nremains robust, resulting in strong deal wins and order book.\\nOur deal pipeline remains solid and deal conversions have been timely. New\\ndeal ramp-ups are also going ahead as planned\"),\n",
              " Document(metadata={'source': 'docid-3'}, page_content='Speaking about the headline\\nnumbers for the quarter: In Q3, our revenues grew 4.0% in rupee terms, 1.7%\\nin constant currency terms and 2.9% in dollar terms.\\nOur operating margin was at 25%, and net margin was at 19.4%. Our ability\\nto maximize market opportunities is evident in our strong TCV of $8.1 billion\\nand a book-to-bill ratio of 1.1.\\nWe are seeing solid deal momentum across markets, resulting in strong\\ndouble-digit growth in our last 12 months TCV, which is a reflection of our\\ndeepening partnership with clients.\\nDuring the quarter, we started to deliver BSNL 4G/5G network-related\\nequipment and services, a project of national importance. We are executing\\nthis project as a system integrator partnering with other OEMs. The\\ntransformational nature of this project and the solutions delivered are\\nenhancing TCS reputation of being a critical partner to BSNL and the\\nAtmanirbhar vision of the Government of India'),\n",
              " Document(metadata={'source': 'docid-3'}, page_content=\"I'll now invite Samir, Milind\\nand NGS to go over different aspects of our performance during the quarter.\\nI'll step in later to provide more color on the demand trends we are seeing.\\nOver to you, Samir.\\n\\nSamir Seksaria:\\n\\nThank you, Krithi. Good day and wishing all of you a great start to the new\\nyear. In the third quarter of FY '24, our revenues were ₹60,583 crores, which\\nis a Year-on-Year (Y-o-Y) growth of 4.0%. In dollar terms, the revenue was\\n$7.28 billion, a Y-o-Y growth of 2.9% and in CC terms, the Y-o-Y growth was\\n1.7%.\\nLet me now go over our financial performance\"),\n",
              " Document(metadata={'source': 'docid-3'}, page_content=\"I now\\nhand the conference over to the management for closing comments. Over to\\nyou, sir.\\n\\nK Krithivasan:\\n\\nThank you, Operator.\\n•\\n•\\n\\n•\\n•\\n•\\n•\\n•\\n\\n•\\n\\nIn Q3, our revenue grew 4.0% in rupee terms and 1.7% in constant currency\\nterms.\\nImproved productivity and other operational efficiencies, along with further\\noptimization of subcontractor expenses, helped expand our operating\\nmargin, offsetting margin headwinds from furloughs and higher third-party\\nexpenses.\\nWe were able to improve operating margins to 25.0%. Our net margin is at\\n19.4%.\\nDeal momentum continued to be very strong in Q3 with our order book at\\n$8.1 billion.\\nOur LTM attrition in IT services fell further to 13.3%.\\nOur Board has recommended a dividend of ₹27 per share, including special\\ndividend of ₹18 per share.\\nWe continue to invest in building our Gen AI offerings, deepening our\\nemployees' skills on Gen AI and are building differentiated capabilities,\\nintegrating Gen AI in our portfolio of products and platforms\"),\n",
              " Document(metadata={'source': 'docid-3'}, page_content=\"The TCV trend in terms of tenure\\ncontinues to be consistent with what we saw before as well.\\n\\nGaurav Rateria:\\n\\nGot it. The second question is on the levers for margins that helped during the\\nquarter, you did talk about realization and productivity. So, the general\\nperception is that in a tough environment, it's very difficult to use a lever of\\nrealization, but you have been able to do that. Is there anything going on with\\nrespect to client negotiations that has been helping you to benefit on\\n\\n| 16\\n\\n\\x0cTata Consultancy Services Earnings Conference Call\\nJanuary 11, 2024, 19:30 hrs IST (09:00 hrs US ET)\\n\\nmargins? And is there a -- like this is over or this is going to continue in coming\\nquarters as well?\\nSamir Seksaria:\\n\\nGaurav, I will distinguish realization from pricing. Pricing environment is\\nstable. Realization is an outcome\")]"
            ]
          },
          "metadata": {},
          "execution_count": 26
        }
      ]
    },
    {
      "cell_type": "code",
      "source": [
        "paragraphs_list=\"\"\n",
        "for i in range(0,7):\n",
        "    paragraphs_list+=matched_passages[i].page_content+\"\\n\\n\""
      ],
      "metadata": {
        "id": "jafXwMlvs5OZ"
      },
      "execution_count": null,
      "outputs": []
    },
    {
      "cell_type": "code",
      "source": [
        "final_answer_generation_prompt=\"\"\"You are an AI assistant that can provide helpful information to the user. You are given the following extracted parts of a long document and a question. Answer the question with the help of the supporting texts. Also mention the document to the user from which the answer was generated so that he can refer to it.\"\"\"\n",
        "user_prompt = f\"\"\"\n",
        "Question: {user_query}\n",
        "======\n",
        "Supporting texts:\n",
        "{paragraphs_list}\n",
        "\n",
        "Reffered Document:\n",
        "{str(selected_doc)}\n",
        "======\n",
        "\n",
        "Answer:\n",
        "\"\"\""
      ],
      "metadata": {
        "id": "gDLmC331sn4Q"
      },
      "execution_count": null,
      "outputs": []
    },
    {
      "cell_type": "code",
      "source": [
        "messages = [\n",
        "    (\n",
        "        \"system\",\n",
        "       final_answer_generation_prompt,\n",
        "    ),\n",
        "    (\"human\", user_prompt),\n",
        "]\n",
        "response = llm.invoke(messages)\n",
        "print(response.content)"
      ],
      "metadata": {
        "colab": {
          "base_uri": "https://localhost:8080/"
        },
        "id": "qn-BGWk6tqPZ",
        "outputId": "1e3361e7-9400-4e50-ad29-9211e87f5afe"
      },
      "execution_count": null,
      "outputs": [
        {
          "output_type": "stream",
          "name": "stdout",
          "text": [
            "The revenue for TCS in Q3 2024 was ₹60,583 crores, which is a 4.0% growth year-on-year. In dollar terms, the revenue was $7.28 billion, a 2.9% growth year-on-year. \n",
            "\n",
            "This information was extracted from the \"Tata Consultancy Services Earnings Conference Call\" document. \n",
            "\n"
          ]
        }
      ]
    }
  ]
}
